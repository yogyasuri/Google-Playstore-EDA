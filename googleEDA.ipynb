{
 "cells": [
  {
   "cell_type": "markdown",
   "metadata": {},
   "source": [
    "## **Google Playstore EDA project**"
   ]
  },
  {
   "cell_type": "markdown",
   "metadata": {},
   "source": [
    "Exploratory Data Analysis (EDA) is a crucial step in data analysis that helps uncover patterns, detect anomalies, and understand data distributions before applying machine learning models or making business decisions. By performing EDA, I aim to gain practical exposure and enhance my hands-on experience with real-world datasets. This will allow me to apply SQL, Python (Pandas, Matplotlib, Seaborn), and ydata-profiling effectively, improving my ability to extract meaningful insights, clean data, and make data-driven decisions. Regular practice with EDA will strengthen my problem-solving skills and prepare me for data analytics and business intelligence roles in the future."
   ]
  },
  {
   "cell_type": "code",
   "execution_count": 2,
   "metadata": {},
   "outputs": [],
   "source": [
    "# Importing required Python libraries\n",
    "import pandas as pd\n",
    "import numpy as np\n",
    "import seaborn as sns\n",
    "import matplotlib.pyplot as plt "
   ]
  },
  {
   "cell_type": "markdown",
   "metadata": {},
   "source": [
    "### **1. Importing Data**"
   ]
  },
  {
   "cell_type": "code",
   "execution_count": 20,
   "metadata": {},
   "outputs": [],
   "source": [
    "# Importing Data\n",
    "Playstore_Data = pd.read_csv('googleplaystore.csv')"
   ]
  },
  {
   "cell_type": "markdown",
   "metadata": {},
   "source": [
    "* Important Thing's to Note\n",
    "    * set options to show maximum rows and columns \n",
    "    * Hide unnecessary warnings"
   ]
  },
  {
   "cell_type": "code",
   "execution_count": 21,
   "metadata": {},
   "outputs": [],
   "source": [
    "pd.set_option('display.max_columns',None)\n",
    "pd.set_option('display.max_columns',None)\n",
    "\n",
    "# Hiding Warnings\n",
    "import warnings\n",
    "warnings.filterwarnings('ignore')\n"
   ]
  },
  {
   "cell_type": "markdown",
   "metadata": {},
   "source": [
    "## Exploration and Cleaning Data"
   ]
  },
  {
   "cell_type": "markdown",
   "metadata": {},
   "source": [
    "#### **Defining columns**"
   ]
  },
  {
   "cell_type": "markdown",
   "metadata": {},
   "source": [
    "**Here’s a breakdown of each column in the Google Play Store dataset:**\n",
    "\n",
    "* **App** – The name of the mobile application.\n",
    "* **Rating** – The average user rating of the app (typically between 1.0 to 5.0).\n",
    "* **Category** – The category or genre of the app (e.g., \"Games\", \"Business\", \"Education\").\n",
    "* **Reviews** – The total number of user reviews submitted for the app.\n",
    "* **Size** – The size of the application file (in MB or KB). Some values may be listed as \"Varies with device.\"\n",
    "* **Installs** – The number of times the app has been installed (e.g., \"10,000+\", \"1,000,000+\").\n",
    "* **Type** – Indicates whether the app is \"Free\" or \"Paid\".\n",
    "* **Price** – The cost of the app (0 if free, otherwise in USD).\n",
    "* **Content Rating** – The age group for which the app is suitable (e.g., \"Everyone\", \"Teen\", \"Mature 17+\").\n",
    "* **Genres** – The genre(s) of the app, similar to Category but can have multiple values (e.g., \"Action\", \"Puzzle\").\n",
    "* **Last Updated** – The date when the app was last updated on the Play Store.\n",
    "* **Current Ver** – The current version of the app available on the Play Store.\n",
    "* **Android Ver** – The minimum Android version required to install the app (e.g., \"4.0 and up\")."
   ]
  },
  {
   "cell_type": "markdown",
   "metadata": {},
   "source": [
    "* Looking at first 5 rows of data"
   ]
  },
  {
   "cell_type": "code",
   "execution_count": 22,
   "metadata": {},
   "outputs": [
    {
     "data": {
      "text/html": [
       "<div>\n",
       "<style scoped>\n",
       "    .dataframe tbody tr th:only-of-type {\n",
       "        vertical-align: middle;\n",
       "    }\n",
       "\n",
       "    .dataframe tbody tr th {\n",
       "        vertical-align: top;\n",
       "    }\n",
       "\n",
       "    .dataframe thead th {\n",
       "        text-align: right;\n",
       "    }\n",
       "</style>\n",
       "<table border=\"1\" class=\"dataframe\">\n",
       "  <thead>\n",
       "    <tr style=\"text-align: right;\">\n",
       "      <th></th>\n",
       "      <th>App</th>\n",
       "      <th>Category</th>\n",
       "      <th>Rating</th>\n",
       "      <th>Reviews</th>\n",
       "      <th>Size</th>\n",
       "      <th>Installs</th>\n",
       "      <th>Type</th>\n",
       "      <th>Price</th>\n",
       "      <th>Content Rating</th>\n",
       "      <th>Genres</th>\n",
       "      <th>Last Updated</th>\n",
       "      <th>Current Ver</th>\n",
       "      <th>Android Ver</th>\n",
       "    </tr>\n",
       "  </thead>\n",
       "  <tbody>\n",
       "    <tr>\n",
       "      <th>0</th>\n",
       "      <td>Photo Editor &amp; Candy Camera &amp; Grid &amp; ScrapBook</td>\n",
       "      <td>ART_AND_DESIGN</td>\n",
       "      <td>4.1</td>\n",
       "      <td>159.0</td>\n",
       "      <td>19M</td>\n",
       "      <td>10,000+</td>\n",
       "      <td>Free</td>\n",
       "      <td>0</td>\n",
       "      <td>Everyone</td>\n",
       "      <td>Art &amp; Design</td>\n",
       "      <td>January 7, 2018</td>\n",
       "      <td>1.0.0</td>\n",
       "      <td>4.0.3 and up</td>\n",
       "    </tr>\n",
       "    <tr>\n",
       "      <th>1</th>\n",
       "      <td>Coloring book moana</td>\n",
       "      <td>ART_AND_DESIGN</td>\n",
       "      <td>3.9</td>\n",
       "      <td>967.0</td>\n",
       "      <td>14M</td>\n",
       "      <td>500,000+</td>\n",
       "      <td>Free</td>\n",
       "      <td>0</td>\n",
       "      <td>Everyone</td>\n",
       "      <td>Art &amp; Design;Pretend Play</td>\n",
       "      <td>January 15, 2018</td>\n",
       "      <td>2.0.0</td>\n",
       "      <td>4.0.3 and up</td>\n",
       "    </tr>\n",
       "    <tr>\n",
       "      <th>2</th>\n",
       "      <td>U Launcher Lite – FREE Live Cool Themes, Hide ...</td>\n",
       "      <td>ART_AND_DESIGN</td>\n",
       "      <td>4.7</td>\n",
       "      <td>87510.0</td>\n",
       "      <td>8.7M</td>\n",
       "      <td>5,000,000+</td>\n",
       "      <td>Free</td>\n",
       "      <td>0</td>\n",
       "      <td>Everyone</td>\n",
       "      <td>Art &amp; Design</td>\n",
       "      <td>August 1, 2018</td>\n",
       "      <td>1.2.4</td>\n",
       "      <td>4.0.3 and up</td>\n",
       "    </tr>\n",
       "    <tr>\n",
       "      <th>3</th>\n",
       "      <td>Sketch - Draw &amp; Paint</td>\n",
       "      <td>ART_AND_DESIGN</td>\n",
       "      <td>4.5</td>\n",
       "      <td>215644.0</td>\n",
       "      <td>25M</td>\n",
       "      <td>50,000,000+</td>\n",
       "      <td>Free</td>\n",
       "      <td>0</td>\n",
       "      <td>Teen</td>\n",
       "      <td>Art &amp; Design</td>\n",
       "      <td>June 8, 2018</td>\n",
       "      <td>Varies with device</td>\n",
       "      <td>4.2 and up</td>\n",
       "    </tr>\n",
       "    <tr>\n",
       "      <th>4</th>\n",
       "      <td>Pixel Draw - Number Art Coloring Book</td>\n",
       "      <td>ART_AND_DESIGN</td>\n",
       "      <td>4.3</td>\n",
       "      <td>967.0</td>\n",
       "      <td>2.8M</td>\n",
       "      <td>100,000+</td>\n",
       "      <td>Free</td>\n",
       "      <td>0</td>\n",
       "      <td>Everyone</td>\n",
       "      <td>Art &amp; Design;Creativity</td>\n",
       "      <td>June 20, 2018</td>\n",
       "      <td>1.1</td>\n",
       "      <td>4.4 and up</td>\n",
       "    </tr>\n",
       "  </tbody>\n",
       "</table>\n",
       "</div>"
      ],
      "text/plain": [
       "                                                 App        Category  Rating  \\\n",
       "0     Photo Editor & Candy Camera & Grid & ScrapBook  ART_AND_DESIGN     4.1   \n",
       "1                                Coloring book moana  ART_AND_DESIGN     3.9   \n",
       "2  U Launcher Lite – FREE Live Cool Themes, Hide ...  ART_AND_DESIGN     4.7   \n",
       "3                              Sketch - Draw & Paint  ART_AND_DESIGN     4.5   \n",
       "4              Pixel Draw - Number Art Coloring Book  ART_AND_DESIGN     4.3   \n",
       "\n",
       "    Reviews  Size     Installs  Type Price Content Rating  \\\n",
       "0     159.0   19M      10,000+  Free     0       Everyone   \n",
       "1     967.0   14M     500,000+  Free     0       Everyone   \n",
       "2   87510.0  8.7M   5,000,000+  Free     0       Everyone   \n",
       "3  215644.0   25M  50,000,000+  Free     0           Teen   \n",
       "4     967.0  2.8M     100,000+  Free     0       Everyone   \n",
       "\n",
       "                      Genres      Last Updated         Current Ver  \\\n",
       "0               Art & Design   January 7, 2018               1.0.0   \n",
       "1  Art & Design;Pretend Play  January 15, 2018               2.0.0   \n",
       "2               Art & Design    August 1, 2018               1.2.4   \n",
       "3               Art & Design      June 8, 2018  Varies with device   \n",
       "4    Art & Design;Creativity     June 20, 2018                 1.1   \n",
       "\n",
       "    Android Ver  \n",
       "0  4.0.3 and up  \n",
       "1  4.0.3 and up  \n",
       "2  4.0.3 and up  \n",
       "3    4.2 and up  \n",
       "4    4.4 and up  "
      ]
     },
     "execution_count": 22,
     "metadata": {},
     "output_type": "execute_result"
    }
   ],
   "source": [
    "Playstore_Data.head(5)"
   ]
  },
  {
   "cell_type": "markdown",
   "metadata": {},
   "source": [
    "## 📈 Automated EDA with `ydata-profiling`\n",
    "\n",
    "### 🎯 Purpose\n",
    "To generate a **quick and comprehensive initial overview** of the dataset using descriptive statistics.  \n",
    "This helps in:\n",
    "- Identifying missing data\n",
    "- Understanding distributions\n",
    "- Spotting outliers\n",
    "- Detecting correlations\n",
    "- Reviewing variable types\n",
    "\n",
    "All before starting any manual preprocessing or modeling.\n",
    "\n",
    "### 🛠️ Tool Used: `ydata-profiling` (formerly `pandas-profiling`)\n",
    "\n",
    "We used the `ydata-profiling` Python library to automatically generate an interactive Exploratory Data Analysis (EDA) report.\n",
    "\n",
    "### ✅ Features of the Report\n",
    "- **Summary Statistics** (mean, median, standard deviation, min/max, etc.)\n",
    "- **Missing Values Heatmap**\n",
    "- **Variable Type Detection**\n",
    "- **Correlations (Pearson, Spearman, Kendall)**\n",
    "- **Distribution Plots**\n",
    "- **Duplicate Rows Detection**\n",
    "- **High Cardinality Alerts**\n",
    "\n"
   ]
  },
  {
   "cell_type": "code",
   "execution_count": 23,
   "metadata": {},
   "outputs": [
    {
     "data": {
      "application/vnd.jupyter.widget-view+json": {
       "model_id": "4bb72ad3c80144caa249bb717b452d35",
       "version_major": 2,
       "version_minor": 0
      },
      "text/plain": [
       "Summarize dataset:   0%|          | 0/5 [00:00<?, ?it/s]"
      ]
     },
     "metadata": {},
     "output_type": "display_data"
    },
    {
     "name": "stderr",
     "output_type": "stream",
     "text": [
      "100%|██████████| 13/13 [00:00<00:00, 18.93it/s]\n"
     ]
    },
    {
     "data": {
      "application/vnd.jupyter.widget-view+json": {
       "model_id": "9b36f56f6e78483aab48d1f901dfbd70",
       "version_major": 2,
       "version_minor": 0
      },
      "text/plain": [
       "Generate report structure:   0%|          | 0/1 [00:00<?, ?it/s]"
      ]
     },
     "metadata": {},
     "output_type": "display_data"
    },
    {
     "data": {
      "application/vnd.jupyter.widget-view+json": {
       "model_id": "0e3ee12ee1994c8cb013146d4a926378",
       "version_major": 2,
       "version_minor": 0
      },
      "text/plain": [
       "Render HTML:   0%|          | 0/1 [00:00<?, ?it/s]"
      ]
     },
     "metadata": {},
     "output_type": "display_data"
    },
    {
     "data": {
      "application/vnd.jupyter.widget-view+json": {
       "model_id": "60d797c7e0f7471ea7887b196def95d0",
       "version_major": 2,
       "version_minor": 0
      },
      "text/plain": [
       "Export report to file:   0%|          | 0/1 [00:00<?, ?it/s]"
      ]
     },
     "metadata": {},
     "output_type": "display_data"
    }
   ],
   "source": [
    "import ydata_profiling as yd\n",
    "\n",
    "\n",
    "profile = yd.ProfileReport(Playstore_Data)\n",
    "profile.to_file('C:\\\\Users\\\\yogya\\\\Desktop\\\\EDA project\\\\Google playstore eda\\\\practicing\\\\output\\\\Google_aapStore.html')"
   ]
  },
  {
   "cell_type": "code",
   "execution_count": 19,
   "metadata": {},
   "outputs": [
    {
     "name": "stdout",
     "output_type": "stream",
     "text": [
      "<class 'pandas.core.frame.DataFrame'>\n",
      "RangeIndex: 10841 entries, 0 to 10840\n",
      "Data columns (total 13 columns):\n",
      " #   Column          Non-Null Count  Dtype  \n",
      "---  ------          --------------  -----  \n",
      " 0   App             10841 non-null  object \n",
      " 1   Category        10840 non-null  object \n",
      " 2   Rating          9367 non-null   float64\n",
      " 3   Reviews         10840 non-null  float64\n",
      " 4   Size            10841 non-null  object \n",
      " 5   Installs        10841 non-null  object \n",
      " 6   Type            10840 non-null  object \n",
      " 7   Price           10841 non-null  object \n",
      " 8   Content Rating  10841 non-null  object \n",
      " 9   Genres          10840 non-null  object \n",
      " 10  Last Updated    10841 non-null  object \n",
      " 11  Current Ver     10833 non-null  object \n",
      " 12  Android Ver     10839 non-null  object \n",
      "dtypes: float64(2), object(11)\n",
      "memory usage: 1.1+ MB\n"
     ]
    }
   ],
   "source": [
    "Playstore_Data.info()"
   ]
  },
  {
   "cell_type": "markdown",
   "metadata": {},
   "source": [
    "# 📊 Data Quality Report – Google Play Store Dataset\n",
    "\n",
    "## 🔢 Dataset Overview\n",
    "- **Total Rows:** 10,841  \n",
    "- **Total Columns:** 13  \n",
    "- **Memory Usage:** ~1.1 MB  \n",
    "\n",
    "---\n",
    "\n",
    "## 🧹 Null / Missing Values\n",
    "\n",
    "| Column           | Non-Null Count | Missing Count | Remarks                           |\n",
    "|------------------|----------------|----------------|------------------------------------|\n",
    "| `App`            | 10,841         | 0              | ✅ Complete                        |\n",
    "| `Category`       | 10,840         | 1              | ⚠️ 1 missing value                |\n",
    "| `Rating`         | 9,367          | 1,474          | ⚠️ Significant missing values     |\n",
    "| `Reviews`        | 10,840         | 1              | ⚠️ Should be an integer           |\n",
    "| `Size`           | 10,841         | 0              | ✅ Complete                        |\n",
    "| `Installs`       | 10,841         | 0              | ✅ Complete                        |\n",
    "| `Type`           | 10,840         | 1              | ⚠️ 1 missing value                |\n",
    "| `Price`          | 10,841         | 0              | ✅ Complete                        |\n",
    "| `Content Rating` | 10,841         | 0              | ✅ Complete                        |\n",
    "| `Genres`         | 10,840         | 1              | ⚠️ 1 missing value                |\n",
    "| `Last Updated`   | 10,841         | 0              | ✅ Complete                        |\n",
    "| `Current Ver`    | 10,833         | 8              | ⚠️ 8 missing values               |\n",
    "| `Android Ver`    | 10,839         | 2              | ⚠️ 2 missing values               |\n",
    "\n",
    "---\n",
    "\n",
    "## 🔍 Data Type Issues\n",
    "\n",
    "- **`Reviews`** is of type `float64`, but reviews are generally integers. 🔁 *Should convert to `int`*.\n",
    "- **`Last Updated`** if of type `object`, 🔁 *Should convert to `Date`*\n",
    "- **`Size`**, **`Installs`**, and **`Price`** are object types and may contain inconsistent formatting like:\n",
    "  - `'Varies with device'` in `Size`\n",
    "  - `'1,000+’` in `Installs`\n",
    "  - `'$4.99'` in `Price`\n",
    "\n",
    "🛠️ These need cleaning and conversion:\n",
    "- `Size` → numeric MB or KB (after removing \"Varies with device\")\n",
    "- `Installs` → integer (remove `+` and `,`)\n",
    "- `Price` → float (remove `$`)\n",
    "\n",
    "---\n",
    "\n",
    "## ❗ Inconsistencies Summary\n",
    "\n",
    "- ⚠️ **Missing values** in 7 columns (especially `Rating`)\n",
    "- ⚠️ **Data type mismatches** in `Reviews`, `Size`, `Installs`, `Price`,`and Last Updated`\n",
    "- ⚠️ **Inconsistent formats** like symbols and text in numeric fields\n",
    "- ✅ Most categorical/text columns are clean but need review for uniformity\n",
    "\n",
    "---\n",
    "\n",
    "## ✅ Next Steps\n",
    "\n",
    "1. **Handle missing values:**\n",
    "   - Impute/drop based on column significance.\n",
    "2. **Clean formatting in object-type numeric fields.**\n",
    "3. **Convert datatypes** (`Reviews`, `Installs`, `Price`,`Last Updated`) to proper formats.\n",
    "4. **Visualize nulls** using a heatmap to understand patterns.\n"
   ]
  },
  {
   "cell_type": "markdown",
   "metadata": {},
   "source": [
    "✅ Converting `Size` to a numeric column"
   ]
  },
  {
   "cell_type": "code",
   "execution_count": null,
   "metadata": {},
   "outputs": [],
   "source": []
  }
 ],
 "metadata": {
  "kernelspec": {
   "display_name": "Python 3",
   "language": "python",
   "name": "python3"
  },
  "language_info": {
   "codemirror_mode": {
    "name": "ipython",
    "version": 3
   },
   "file_extension": ".py",
   "mimetype": "text/x-python",
   "name": "python",
   "nbconvert_exporter": "python",
   "pygments_lexer": "ipython3",
   "version": "3.10.6"
  }
 },
 "nbformat": 4,
 "nbformat_minor": 2
}
